{
  "nbformat": 4,
  "nbformat_minor": 0,
  "metadata": {
    "colab": {
      "name": "END2.0_Session_01.ipynb",
      "provenance": [],
      "include_colab_link": true
    },
    "kernelspec": {
      "name": "python3",
      "display_name": "Python 3"
    },
    "language_info": {
      "name": "python"
    }
  },
  "cells": [
    {
      "cell_type": "markdown",
      "metadata": {
        "id": "view-in-github",
        "colab_type": "text"
      },
      "source": [
        "<a href=\"https://colab.research.google.com/github/nrajmalwar/END2.0/blob/main/Session_01/END2_0_Session_01.ipynb\" target=\"_parent\"><img src=\"https://colab.research.google.com/assets/colab-badge.svg\" alt=\"Open In Colab\"/></a>"
      ]
    },
    {
      "cell_type": "code",
      "metadata": {
        "colab": {
          "base_uri": "https://localhost:8080/"
        },
        "id": "GC_6PeobwwkH",
        "outputId": "2538f785-a393-4f36-c9ca-93ef548ee30f"
      },
      "source": [
        "import torch\n",
        "from torch.autograd import Variable\n",
        "import torch.nn as nn\n",
        "import torch.nn.functional as F\n",
        "import torch.optim as optim\n",
        "import numpy as np\n",
        "import matplotlib.pyplot as plt\n",
        "%matplotlib inline\n",
        "torch.manual_seed(2)"
      ],
      "execution_count": null,
      "outputs": [
        {
          "output_type": "execute_result",
          "data": {
            "text/plain": [
              "<torch._C.Generator at 0x7feff909a8f0>"
            ]
          },
          "metadata": {
            "tags": []
          },
          "execution_count": 1
        }
      ]
    },
    {
      "cell_type": "code",
      "metadata": {
        "id": "bL64bMTkw2GP"
      },
      "source": [
        "X = torch.Tensor([[0,0], [0,1], [1,0], [1,1]])\n",
        "Y = torch.Tensor([0, 1, 1, 0]).view(-1,1)"
      ],
      "execution_count": null,
      "outputs": []
    },
    {
      "cell_type": "code",
      "metadata": {
        "id": "aC82kEAIw3Wf"
      },
      "source": [
        "class XOR(nn.Module):\n",
        "    def __init__(self, input_dim = 2, output_dim=1):\n",
        "        super(XOR, self).__init__()\n",
        "        # First hidden layer consists of 11 neurons, so total weights = 11*2+11 = 33\n",
        "        self.lin1 = nn.Linear(input_dim, 11, bias = True)\n",
        "        # We do not use bias for the second layer to obtain total of 44 weights\n",
        "        self.lin2 = nn.Linear(11, output_dim, bias = False)\n",
        "    \n",
        "    def forward(self, x):\n",
        "        x = self.lin1(x)\n",
        "        x = torch.tanh(x)\n",
        "        x = self.lin2(x)\n",
        "        # x = torch.tanh(x) Commented the final activation layer to improve the accuracy\n",
        "        return x"
      ],
      "execution_count": null,
      "outputs": []
    },
    {
      "cell_type": "code",
      "metadata": {
        "colab": {
          "base_uri": "https://localhost:8080/"
        },
        "id": "8gQIQExYw65K",
        "outputId": "040461dc-34c0-4a77-eaa4-b5a6b2987ba4"
      },
      "source": [
        "model = XOR()\n",
        "print(model)\n",
        "from torchsummary import summary\n",
        "summary(model, (2,2))"
      ],
      "execution_count": null,
      "outputs": [
        {
          "output_type": "stream",
          "text": [
            "XOR(\n",
            "  (lin1): Linear(in_features=2, out_features=11, bias=True)\n",
            "  (lin2): Linear(in_features=11, out_features=1, bias=False)\n",
            ")\n",
            "----------------------------------------------------------------\n",
            "        Layer (type)               Output Shape         Param #\n",
            "================================================================\n",
            "            Linear-1                [-1, 2, 11]              33\n",
            "            Linear-2                 [-1, 2, 1]              11\n",
            "================================================================\n",
            "Total params: 44\n",
            "Trainable params: 44\n",
            "Non-trainable params: 0\n",
            "----------------------------------------------------------------\n",
            "Input size (MB): 0.00\n",
            "Forward/backward pass size (MB): 0.00\n",
            "Params size (MB): 0.00\n",
            "Estimated Total Size (MB): 0.00\n",
            "----------------------------------------------------------------\n"
          ],
          "name": "stdout"
        }
      ]
    },
    {
      "cell_type": "code",
      "metadata": {
        "id": "yeotEq19x6XF"
      },
      "source": [
        "def weights_init(model):\n",
        "    for m in model.modules():\n",
        "        if isinstance(m, nn.Linear):\n",
        "            # initialize the weight tensor, here we use a normal distribution\n",
        "            m.weight.data.normal_(0, 1)\n",
        "\n",
        "weights_init(model)"
      ],
      "execution_count": null,
      "outputs": []
    },
    {
      "cell_type": "code",
      "metadata": {
        "id": "WrD_sNzLx78e"
      },
      "source": [
        "loss_func = nn.L1Loss()"
      ],
      "execution_count": null,
      "outputs": []
    },
    {
      "cell_type": "code",
      "metadata": {
        "id": "-zvbrMd2x_lA"
      },
      "source": [
        "optimizer = optim.SGD(model.parameters(), lr=0.02, momentum=0.9)\n"
      ],
      "execution_count": null,
      "outputs": []
    },
    {
      "cell_type": "code",
      "metadata": {
        "colab": {
          "base_uri": "https://localhost:8080/"
        },
        "id": "q7tWa3D7yA5X",
        "outputId": "d442228d-b9c8-4d18-80ce-83685d5567e5"
      },
      "source": [
        "# Train for 2001 epochs\n",
        "epochs = 2001\n",
        "steps = X.size(0)\n",
        "for i in range(epochs):\n",
        "    for j in range(steps):\n",
        "        data_point = np.random.randint(X.size(0))\n",
        "        x_var = Variable(X[data_point], requires_grad=False)\n",
        "        y_var = Variable(Y[data_point], requires_grad=False)\n",
        "        \n",
        "        optimizer.zero_grad()\n",
        "        y_hat = model(x_var)\n",
        "        loss = loss_func.forward(y_hat, y_var)\n",
        "        loss.backward()\n",
        "        optimizer.step()\n",
        "        \n",
        "    if i % 50 == 0:\n",
        "        print( \"Epoch: {0}, Loss: {1}, \".format(i, loss.data.numpy()))"
      ],
      "execution_count": null,
      "outputs": [
        {
          "output_type": "stream",
          "text": [
            "Epoch: 0, Loss: 0.20360791683197021, \n",
            "Epoch: 50, Loss: 0.6651564836502075, \n",
            "Epoch: 100, Loss: 0.6651564836502075, \n",
            "Epoch: 150, Loss: 0.924538791179657, \n",
            "Epoch: 200, Loss: 0.924538791179657, \n",
            "Epoch: 250, Loss: 0.20360791683197021, \n",
            "Epoch: 300, Loss: 0.20360791683197021, \n",
            "Epoch: 350, Loss: 0.924538791179657, \n",
            "Epoch: 400, Loss: 0.924538791179657, \n",
            "Epoch: 450, Loss: 0.1778581291437149, \n",
            "Epoch: 500, Loss: 0.6651564836502075, \n",
            "Epoch: 550, Loss: 0.1778581291437149, \n",
            "Epoch: 600, Loss: 0.6651564836502075, \n",
            "Epoch: 650, Loss: 0.6651564836502075, \n",
            "Epoch: 700, Loss: 0.924538791179657, \n",
            "Epoch: 750, Loss: 0.1778581291437149, \n",
            "Epoch: 800, Loss: 0.924538791179657, \n",
            "Epoch: 850, Loss: 0.1778581291437149, \n",
            "Epoch: 900, Loss: 0.924538791179657, \n",
            "Epoch: 950, Loss: 0.924538791179657, \n",
            "Epoch: 1000, Loss: 0.1778581291437149, \n",
            "Epoch: 1050, Loss: 0.20360791683197021, \n",
            "Epoch: 1100, Loss: 0.924538791179657, \n",
            "Epoch: 1150, Loss: 0.6651564836502075, \n",
            "Epoch: 1200, Loss: 0.1778581291437149, \n",
            "Epoch: 1250, Loss: 0.6651564836502075, \n",
            "Epoch: 1300, Loss: 0.20360791683197021, \n",
            "Epoch: 1350, Loss: 0.20360791683197021, \n",
            "Epoch: 1400, Loss: 0.924538791179657, \n",
            "Epoch: 1450, Loss: 0.20360791683197021, \n",
            "Epoch: 1500, Loss: 0.1778581291437149, \n",
            "Epoch: 1550, Loss: 0.6651564836502075, \n",
            "Epoch: 1600, Loss: 0.1778581291437149, \n",
            "Epoch: 1650, Loss: 0.924538791179657, \n",
            "Epoch: 1700, Loss: 0.1778581291437149, \n",
            "Epoch: 1750, Loss: 0.6651564836502075, \n",
            "Epoch: 1800, Loss: 0.6651564836502075, \n",
            "Epoch: 1850, Loss: 0.924538791179657, \n",
            "Epoch: 1900, Loss: 0.20360791683197021, \n",
            "Epoch: 1950, Loss: 0.20360791683197021, \n",
            "Epoch: 2000, Loss: 0.20360791683197021, \n"
          ],
          "name": "stdout"
        }
      ]
    },
    {
      "cell_type": "code",
      "metadata": {
        "id": "QV0dIdveyCRi"
      },
      "source": [
        ""
      ],
      "execution_count": null,
      "outputs": []
    }
  ]
}