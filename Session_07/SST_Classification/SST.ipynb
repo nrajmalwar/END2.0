{
  "nbformat": 4,
  "nbformat_minor": 0,
  "metadata": {
    "colab": {
      "name": "END2_07_Part1_SST.ipynb",
      "provenance": [],
      "collapsed_sections": [],
      "toc_visible": true,
      "include_colab_link": true
    },
    "kernelspec": {
      "name": "python3",
      "display_name": "Python 3"
    },
    "language_info": {
      "name": "python"
    },
    "accelerator": "GPU"
  },
  "cells": [
    {
      "cell_type": "markdown",
      "metadata": {
        "id": "view-in-github",
        "colab_type": "text"
      },
      "source": [
        "<a href=\"https://colab.research.google.com/github/nrajmalwar/END2.0/blob/main/Session_07/SST_Classification/SST.ipynb\" target=\"_parent\"><img src=\"https://colab.research.google.com/assets/colab-badge.svg\" alt=\"Open In Colab\"/></a>"
      ]
    },
    {
      "cell_type": "markdown",
      "metadata": {
        "id": "xAnJ5TaLlRI1"
      },
      "source": [
        "# Check GPU"
      ]
    },
    {
      "cell_type": "code",
      "metadata": {
        "colab": {
          "base_uri": "https://localhost:8080/"
        },
        "id": "bV5C8_9DlTP1",
        "outputId": "0a04db66-e226-447c-eded-200096cdccd6"
      },
      "source": [
        "!nvidia-smi"
      ],
      "execution_count": 1,
      "outputs": [
        {
          "output_type": "stream",
          "text": [
            "Thu Jun 24 10:53:13 2021       \n",
            "+-----------------------------------------------------------------------------+\n",
            "| NVIDIA-SMI 465.27       Driver Version: 460.32.03    CUDA Version: 11.2     |\n",
            "|-------------------------------+----------------------+----------------------+\n",
            "| GPU  Name        Persistence-M| Bus-Id        Disp.A | Volatile Uncorr. ECC |\n",
            "| Fan  Temp  Perf  Pwr:Usage/Cap|         Memory-Usage | GPU-Util  Compute M. |\n",
            "|                               |                      |               MIG M. |\n",
            "|===============================+======================+======================|\n",
            "|   0  Tesla T4            Off  | 00000000:00:04.0 Off |                    0 |\n",
            "| N/A   67C    P8    11W /  70W |      0MiB / 15109MiB |      0%      Default |\n",
            "|                               |                      |                  N/A |\n",
            "+-------------------------------+----------------------+----------------------+\n",
            "                                                                               \n",
            "+-----------------------------------------------------------------------------+\n",
            "| Processes:                                                                  |\n",
            "|  GPU   GI   CI        PID   Type   Process name                  GPU Memory |\n",
            "|        ID   ID                                                   Usage      |\n",
            "|=============================================================================|\n",
            "|  No running processes found                                                 |\n",
            "+-----------------------------------------------------------------------------+\n"
          ],
          "name": "stdout"
        }
      ]
    },
    {
      "cell_type": "markdown",
      "metadata": {
        "id": "jfa8ZdDMDGSd"
      },
      "source": [
        "# Import Libraries"
      ]
    },
    {
      "cell_type": "code",
      "metadata": {
        "id": "XwA6ZAP0gV57",
        "colab": {
          "base_uri": "https://localhost:8080/"
        },
        "outputId": "c0352a3f-b0be-4324-c9aa-ac6f1b483942"
      },
      "source": [
        "import pandas as pd\n",
        "import numpy as np\n",
        "import random\n",
        "import matplotlib.pyplot as plt\n",
        "import seaborn as sns\n",
        "import spacy\n",
        "\n",
        "import torch, torchtext\n",
        "from torchtext.legacy import data\n",
        "import torch.nn as nn\n",
        "import torch.nn.functional as F\n",
        "import torch.optim as optim\n",
        "\n",
        "from google.colab import drive\n",
        "drive.mount('/content/drive')\n",
        "\n",
        "# Manual Seed\n",
        "SEED = 43\n",
        "torch.manual_seed(SEED)"
      ],
      "execution_count": 2,
      "outputs": [
        {
          "output_type": "stream",
          "text": [
            "Drive already mounted at /content/drive; to attempt to forcibly remount, call drive.mount(\"/content/drive\", force_remount=True).\n"
          ],
          "name": "stdout"
        },
        {
          "output_type": "execute_result",
          "data": {
            "text/plain": [
              "<torch._C.Generator at 0x7f0354f434d0>"
            ]
          },
          "metadata": {
            "tags": []
          },
          "execution_count": 2
        }
      ]
    },
    {
      "cell_type": "code",
      "metadata": {
        "colab": {
          "base_uri": "https://localhost:8080/"
        },
        "id": "294k1CV3giS4",
        "outputId": "863e718d-10d0-4824-fa62-c011ae092385"
      },
      "source": [
        "device = torch.device(\"cuda\" if torch.cuda.is_available() else \"cpu\")\n",
        "print(device)"
      ],
      "execution_count": 3,
      "outputs": [
        {
          "output_type": "stream",
          "text": [
            "cuda\n"
          ],
          "name": "stdout"
        }
      ]
    },
    {
      "cell_type": "markdown",
      "metadata": {
        "id": "ISzA-lroPMTd"
      },
      "source": [
        "# Data Preprocessing"
      ]
    },
    {
      "cell_type": "markdown",
      "metadata": {
        "id": "NnFxlowBY8K5"
      },
      "source": [
        "## Sentences"
      ]
    },
    {
      "cell_type": "code",
      "metadata": {
        "colab": {
          "base_uri": "https://localhost:8080/",
          "height": 206
        },
        "id": "ggimqGoi_BqW",
        "outputId": "d46d881c-6bb2-4c10-b3b3-25ff90db3767"
      },
      "source": [
        "# Sentences contains index of the sentence and the text \n",
        "sentences_df = pd.read_csv('/content/drive/MyDrive/The School of AI/stanfordSentimentTreebank/datasetSentences.txt', sep = '\\t', header = 0)\n",
        "sentences_df.head()"
      ],
      "execution_count": 4,
      "outputs": [
        {
          "output_type": "execute_result",
          "data": {
            "text/html": [
              "<div>\n",
              "<style scoped>\n",
              "    .dataframe tbody tr th:only-of-type {\n",
              "        vertical-align: middle;\n",
              "    }\n",
              "\n",
              "    .dataframe tbody tr th {\n",
              "        vertical-align: top;\n",
              "    }\n",
              "\n",
              "    .dataframe thead th {\n",
              "        text-align: right;\n",
              "    }\n",
              "</style>\n",
              "<table border=\"1\" class=\"dataframe\">\n",
              "  <thead>\n",
              "    <tr style=\"text-align: right;\">\n",
              "      <th></th>\n",
              "      <th>sentence_index</th>\n",
              "      <th>sentence</th>\n",
              "    </tr>\n",
              "  </thead>\n",
              "  <tbody>\n",
              "    <tr>\n",
              "      <th>0</th>\n",
              "      <td>1</td>\n",
              "      <td>The Rock is destined to be the 21st Century 's...</td>\n",
              "    </tr>\n",
              "    <tr>\n",
              "      <th>1</th>\n",
              "      <td>2</td>\n",
              "      <td>The gorgeously elaborate continuation of `` Th...</td>\n",
              "    </tr>\n",
              "    <tr>\n",
              "      <th>2</th>\n",
              "      <td>3</td>\n",
              "      <td>Effective but too-tepid biopic</td>\n",
              "    </tr>\n",
              "    <tr>\n",
              "      <th>3</th>\n",
              "      <td>4</td>\n",
              "      <td>If you sometimes like to go to the movies to h...</td>\n",
              "    </tr>\n",
              "    <tr>\n",
              "      <th>4</th>\n",
              "      <td>5</td>\n",
              "      <td>Emerges as something rare , an issue movie tha...</td>\n",
              "    </tr>\n",
              "  </tbody>\n",
              "</table>\n",
              "</div>"
            ],
            "text/plain": [
              "   sentence_index                                           sentence\n",
              "0               1  The Rock is destined to be the 21st Century 's...\n",
              "1               2  The gorgeously elaborate continuation of `` Th...\n",
              "2               3                     Effective but too-tepid biopic\n",
              "3               4  If you sometimes like to go to the movies to h...\n",
              "4               5  Emerges as something rare , an issue movie tha..."
            ]
          },
          "metadata": {
            "tags": []
          },
          "execution_count": 4
        }
      ]
    },
    {
      "cell_type": "code",
      "metadata": {
        "colab": {
          "base_uri": "https://localhost:8080/"
        },
        "id": "_DelWJDZTRyA",
        "outputId": "2459e520-f016-467a-92ce-6c588ec91d9d"
      },
      "source": [
        "print(\"Number of sentences = \", len(sentences_df))"
      ],
      "execution_count": 5,
      "outputs": [
        {
          "output_type": "stream",
          "text": [
            "Number of sentences =  11855\n"
          ],
          "name": "stdout"
        }
      ]
    },
    {
      "cell_type": "markdown",
      "metadata": {
        "id": "dwUkVTD7Y-R7"
      },
      "source": [
        "## Labels"
      ]
    },
    {
      "cell_type": "code",
      "metadata": {
        "colab": {
          "base_uri": "https://localhost:8080/",
          "height": 206
        },
        "id": "iIJeCQHsTZhQ",
        "outputId": "642a1879-52c4-4934-a45a-f268795dc920"
      },
      "source": [
        "# Labels contains phrase ids mapped to the sentiment values\n",
        "labels_df = pd.read_csv('/content/drive/MyDrive/The School of AI/stanfordSentimentTreebank/sentiment_labels.txt', sep = '|', header = 0)\n",
        "labels_df.head()"
      ],
      "execution_count": 6,
      "outputs": [
        {
          "output_type": "execute_result",
          "data": {
            "text/html": [
              "<div>\n",
              "<style scoped>\n",
              "    .dataframe tbody tr th:only-of-type {\n",
              "        vertical-align: middle;\n",
              "    }\n",
              "\n",
              "    .dataframe tbody tr th {\n",
              "        vertical-align: top;\n",
              "    }\n",
              "\n",
              "    .dataframe thead th {\n",
              "        text-align: right;\n",
              "    }\n",
              "</style>\n",
              "<table border=\"1\" class=\"dataframe\">\n",
              "  <thead>\n",
              "    <tr style=\"text-align: right;\">\n",
              "      <th></th>\n",
              "      <th>phrase ids</th>\n",
              "      <th>sentiment values</th>\n",
              "    </tr>\n",
              "  </thead>\n",
              "  <tbody>\n",
              "    <tr>\n",
              "      <th>0</th>\n",
              "      <td>0</td>\n",
              "      <td>0.50000</td>\n",
              "    </tr>\n",
              "    <tr>\n",
              "      <th>1</th>\n",
              "      <td>1</td>\n",
              "      <td>0.50000</td>\n",
              "    </tr>\n",
              "    <tr>\n",
              "      <th>2</th>\n",
              "      <td>2</td>\n",
              "      <td>0.44444</td>\n",
              "    </tr>\n",
              "    <tr>\n",
              "      <th>3</th>\n",
              "      <td>3</td>\n",
              "      <td>0.50000</td>\n",
              "    </tr>\n",
              "    <tr>\n",
              "      <th>4</th>\n",
              "      <td>4</td>\n",
              "      <td>0.42708</td>\n",
              "    </tr>\n",
              "  </tbody>\n",
              "</table>\n",
              "</div>"
            ],
            "text/plain": [
              "   phrase ids  sentiment values\n",
              "0           0           0.50000\n",
              "1           1           0.50000\n",
              "2           2           0.44444\n",
              "3           3           0.50000\n",
              "4           4           0.42708"
            ]
          },
          "metadata": {
            "tags": []
          },
          "execution_count": 6
        }
      ]
    },
    {
      "cell_type": "code",
      "metadata": {
        "colab": {
          "base_uri": "https://localhost:8080/"
        },
        "id": "7eB9MaMYURug",
        "outputId": "e30294eb-a466-4b47-a2f9-e36cf0b7228e"
      },
      "source": [
        "print(\"Number of indexes = \", len(labels_df))"
      ],
      "execution_count": 7,
      "outputs": [
        {
          "output_type": "stream",
          "text": [
            "Number of indexes =  239232\n"
          ],
          "name": "stdout"
        }
      ]
    },
    {
      "cell_type": "markdown",
      "metadata": {
        "id": "nuQsqTqtZAPL"
      },
      "source": [
        "## Dictionary"
      ]
    },
    {
      "cell_type": "code",
      "metadata": {
        "colab": {
          "base_uri": "https://localhost:8080/",
          "height": 206
        },
        "id": "YBZMpE52U4bO",
        "outputId": "c78ca0f5-966e-4faf-88fe-72e04c553ebe"
      },
      "source": [
        "# Dictionary maps the phrase texts to the phrase id\n",
        "dict_df = pd.read_csv('/content/drive/MyDrive/The School of AI/stanfordSentimentTreebank/dictionary.txt', sep = '|', header = None)\n",
        "\n",
        "# Rename the columns of dictionary\n",
        "dict_df.rename(columns = {0: 'phrase', 1: 'phrase ids'}, inplace = True)\n",
        "dict_df.head()"
      ],
      "execution_count": 8,
      "outputs": [
        {
          "output_type": "execute_result",
          "data": {
            "text/html": [
              "<div>\n",
              "<style scoped>\n",
              "    .dataframe tbody tr th:only-of-type {\n",
              "        vertical-align: middle;\n",
              "    }\n",
              "\n",
              "    .dataframe tbody tr th {\n",
              "        vertical-align: top;\n",
              "    }\n",
              "\n",
              "    .dataframe thead th {\n",
              "        text-align: right;\n",
              "    }\n",
              "</style>\n",
              "<table border=\"1\" class=\"dataframe\">\n",
              "  <thead>\n",
              "    <tr style=\"text-align: right;\">\n",
              "      <th></th>\n",
              "      <th>phrase</th>\n",
              "      <th>phrase ids</th>\n",
              "    </tr>\n",
              "  </thead>\n",
              "  <tbody>\n",
              "    <tr>\n",
              "      <th>0</th>\n",
              "      <td>!</td>\n",
              "      <td>0</td>\n",
              "    </tr>\n",
              "    <tr>\n",
              "      <th>1</th>\n",
              "      <td>! '</td>\n",
              "      <td>22935</td>\n",
              "    </tr>\n",
              "    <tr>\n",
              "      <th>2</th>\n",
              "      <td>! ''</td>\n",
              "      <td>18235</td>\n",
              "    </tr>\n",
              "    <tr>\n",
              "      <th>3</th>\n",
              "      <td>! Alas</td>\n",
              "      <td>179257</td>\n",
              "    </tr>\n",
              "    <tr>\n",
              "      <th>4</th>\n",
              "      <td>! Brilliant</td>\n",
              "      <td>22936</td>\n",
              "    </tr>\n",
              "  </tbody>\n",
              "</table>\n",
              "</div>"
            ],
            "text/plain": [
              "        phrase  phrase ids\n",
              "0            !           0\n",
              "1          ! '       22935\n",
              "2         ! ''       18235\n",
              "3       ! Alas      179257\n",
              "4  ! Brilliant       22936"
            ]
          },
          "metadata": {
            "tags": []
          },
          "execution_count": 8
        }
      ]
    },
    {
      "cell_type": "code",
      "metadata": {
        "colab": {
          "base_uri": "https://localhost:8080/"
        },
        "id": "OTAZoTo2VtPh",
        "outputId": "59f065e7-f745-420d-cb17-30a04bffa51f"
      },
      "source": [
        "print(\"Number of dictionary items = \", len(dict_df))"
      ],
      "execution_count": 9,
      "outputs": [
        {
          "output_type": "stream",
          "text": [
            "Number of dictionary items =  239232\n"
          ],
          "name": "stdout"
        }
      ]
    },
    {
      "cell_type": "markdown",
      "metadata": {
        "id": "_i9At7bkZFn9"
      },
      "source": [
        "## Target"
      ]
    },
    {
      "cell_type": "code",
      "metadata": {
        "id": "J2YC5_s2-4se",
        "colab": {
          "base_uri": "https://localhost:8080/",
          "height": 206
        },
        "outputId": "4bc000a3-15d8-4548-d92d-f833e9fcb02d"
      },
      "source": [
        "target_df = pd.merge(labels_df, dict_df, how = 'left', on = 'phrase ids')\n",
        "target_df.head()"
      ],
      "execution_count": 10,
      "outputs": [
        {
          "output_type": "execute_result",
          "data": {
            "text/html": [
              "<div>\n",
              "<style scoped>\n",
              "    .dataframe tbody tr th:only-of-type {\n",
              "        vertical-align: middle;\n",
              "    }\n",
              "\n",
              "    .dataframe tbody tr th {\n",
              "        vertical-align: top;\n",
              "    }\n",
              "\n",
              "    .dataframe thead th {\n",
              "        text-align: right;\n",
              "    }\n",
              "</style>\n",
              "<table border=\"1\" class=\"dataframe\">\n",
              "  <thead>\n",
              "    <tr style=\"text-align: right;\">\n",
              "      <th></th>\n",
              "      <th>phrase ids</th>\n",
              "      <th>sentiment values</th>\n",
              "      <th>phrase</th>\n",
              "    </tr>\n",
              "  </thead>\n",
              "  <tbody>\n",
              "    <tr>\n",
              "      <th>0</th>\n",
              "      <td>0</td>\n",
              "      <td>0.50000</td>\n",
              "      <td>!</td>\n",
              "    </tr>\n",
              "    <tr>\n",
              "      <th>1</th>\n",
              "      <td>1</td>\n",
              "      <td>0.50000</td>\n",
              "      <td>'</td>\n",
              "    </tr>\n",
              "    <tr>\n",
              "      <th>2</th>\n",
              "      <td>2</td>\n",
              "      <td>0.44444</td>\n",
              "      <td>' (</td>\n",
              "    </tr>\n",
              "    <tr>\n",
              "      <th>3</th>\n",
              "      <td>3</td>\n",
              "      <td>0.50000</td>\n",
              "      <td>' ( the cockettes</td>\n",
              "    </tr>\n",
              "    <tr>\n",
              "      <th>4</th>\n",
              "      <td>4</td>\n",
              "      <td>0.42708</td>\n",
              "      <td>' ( the cockettes )</td>\n",
              "    </tr>\n",
              "  </tbody>\n",
              "</table>\n",
              "</div>"
            ],
            "text/plain": [
              "   phrase ids  sentiment values               phrase\n",
              "0           0           0.50000                    !\n",
              "1           1           0.50000                    '\n",
              "2           2           0.44444                  ' (\n",
              "3           3           0.50000    ' ( the cockettes\n",
              "4           4           0.42708  ' ( the cockettes )"
            ]
          },
          "metadata": {
            "tags": []
          },
          "execution_count": 10
        }
      ]
    },
    {
      "cell_type": "markdown",
      "metadata": {
        "id": "lgkzv_DqZH9E"
      },
      "source": [
        "## Common Sentences"
      ]
    },
    {
      "cell_type": "code",
      "metadata": {
        "colab": {
          "base_uri": "https://localhost:8080/",
          "height": 206
        },
        "id": "leNxp260Wtwz",
        "outputId": "73e3bed2-5a7b-497c-a31c-01385eaaa0ed"
      },
      "source": [
        "common_sentences = pd.merge(sentences_df, target_df, how= 'inner', left_on='sentence', right_on='phrase')\n",
        "common_sentences.drop(columns=[\"phrase\"], inplace=True)\n",
        "common_sentences.head()"
      ],
      "execution_count": 11,
      "outputs": [
        {
          "output_type": "execute_result",
          "data": {
            "text/html": [
              "<div>\n",
              "<style scoped>\n",
              "    .dataframe tbody tr th:only-of-type {\n",
              "        vertical-align: middle;\n",
              "    }\n",
              "\n",
              "    .dataframe tbody tr th {\n",
              "        vertical-align: top;\n",
              "    }\n",
              "\n",
              "    .dataframe thead th {\n",
              "        text-align: right;\n",
              "    }\n",
              "</style>\n",
              "<table border=\"1\" class=\"dataframe\">\n",
              "  <thead>\n",
              "    <tr style=\"text-align: right;\">\n",
              "      <th></th>\n",
              "      <th>sentence_index</th>\n",
              "      <th>sentence</th>\n",
              "      <th>phrase ids</th>\n",
              "      <th>sentiment values</th>\n",
              "    </tr>\n",
              "  </thead>\n",
              "  <tbody>\n",
              "    <tr>\n",
              "      <th>0</th>\n",
              "      <td>1</td>\n",
              "      <td>The Rock is destined to be the 21st Century 's...</td>\n",
              "      <td>226166</td>\n",
              "      <td>0.69444</td>\n",
              "    </tr>\n",
              "    <tr>\n",
              "      <th>1</th>\n",
              "      <td>2</td>\n",
              "      <td>The gorgeously elaborate continuation of `` Th...</td>\n",
              "      <td>226300</td>\n",
              "      <td>0.83333</td>\n",
              "    </tr>\n",
              "    <tr>\n",
              "      <th>2</th>\n",
              "      <td>3</td>\n",
              "      <td>Effective but too-tepid biopic</td>\n",
              "      <td>13995</td>\n",
              "      <td>0.51389</td>\n",
              "    </tr>\n",
              "    <tr>\n",
              "      <th>3</th>\n",
              "      <td>4</td>\n",
              "      <td>If you sometimes like to go to the movies to h...</td>\n",
              "      <td>14123</td>\n",
              "      <td>0.73611</td>\n",
              "    </tr>\n",
              "    <tr>\n",
              "      <th>4</th>\n",
              "      <td>5</td>\n",
              "      <td>Emerges as something rare , an issue movie tha...</td>\n",
              "      <td>13999</td>\n",
              "      <td>0.86111</td>\n",
              "    </tr>\n",
              "  </tbody>\n",
              "</table>\n",
              "</div>"
            ],
            "text/plain": [
              "   sentence_index  ... sentiment values\n",
              "0               1  ...          0.69444\n",
              "1               2  ...          0.83333\n",
              "2               3  ...          0.51389\n",
              "3               4  ...          0.73611\n",
              "4               5  ...          0.86111\n",
              "\n",
              "[5 rows x 4 columns]"
            ]
          },
          "metadata": {
            "tags": []
          },
          "execution_count": 11
        }
      ]
    },
    {
      "cell_type": "code",
      "metadata": {
        "colab": {
          "base_uri": "https://localhost:8080/"
        },
        "id": "MdmR-dPcVQKd",
        "outputId": "56046218-45d6-4076-edc3-fc56503c52db"
      },
      "source": [
        "# Total number of sentences = 11855\n",
        "# Total number of phrases = 239232\n",
        "# Total number of common sentences (matching with phrases) = 11286\n",
        "print(\"Number of common sentences = \", len(common_sentences))"
      ],
      "execution_count": 12,
      "outputs": [
        {
          "output_type": "stream",
          "text": [
            "Number of common sentences =  11286\n"
          ],
          "name": "stdout"
        }
      ]
    },
    {
      "cell_type": "code",
      "metadata": {
        "id": "I23-N6c9UWyW"
      },
      "source": [
        "common_sentences.to_csv(\"CommonSentences.csv\", index=False, sep=\"|\")"
      ],
      "execution_count": 13,
      "outputs": []
    },
    {
      "cell_type": "markdown",
      "metadata": {
        "id": "o8ddu7a2lgCk"
      },
      "source": [
        "# Training and Test dataset\n",
        "After applying above techiniques we get a combined DataFrame that has the following fields:\n",
        "\n",
        "*   sentence_index : Original sentence_index in the datasetSentences.txt\n",
        "*   sentence: The actual sentence\n",
        "*   Phrase_Id: The Phrase_Id used for mapping/retrieving sentiment score\n",
        "*   Sentiment_Score: Actual Sentiment score for the sentence\n"
      ]
    },
    {
      "cell_type": "code",
      "metadata": {
        "id": "LKMNKE38hwHa",
        "colab": {
          "base_uri": "https://localhost:8080/"
        },
        "outputId": "613ce2fa-03a7-42ad-a169-cdbc36e76dc1"
      },
      "source": [
        "df = common_sentences\n",
        "df.shape"
      ],
      "execution_count": 14,
      "outputs": [
        {
          "output_type": "execute_result",
          "data": {
            "text/plain": [
              "(11286, 4)"
            ]
          },
          "metadata": {
            "tags": []
          },
          "execution_count": 14
        }
      ]
    },
    {
      "cell_type": "markdown",
      "metadata": {
        "id": "7wN4W9Q7zoGD"
      },
      "source": [
        "## **Range expansion**\n",
        "The sentiment scores are floats between [0, 1] so we convert this to equivalent integers between 0 and 5 (i.e 5 different classes)"
      ]
    },
    {
      "cell_type": "code",
      "metadata": {
        "id": "4z8uPVywviaz"
      },
      "source": [
        "def quantize_predictions(score_val):\n",
        "    if(score_val >=0 and score_val <=0.2):\n",
        "        return 0\n",
        "    if(score_val > 0.2 and score_val <=0.4):\n",
        "        return 1\n",
        "    if(score_val > 0.4 and score_val <=0.6):\n",
        "        return 2\n",
        "    if(score_val > 0.6 and score_val <=0.8):\n",
        "        return 3\n",
        "    if(score_val > 0.8 and score_val <=1):\n",
        "        return 4\n",
        "\n",
        "df[\"label\"] = df.loc[:,\"sentiment values\"].apply(quantize_predictions)"
      ],
      "execution_count": 15,
      "outputs": []
    },
    {
      "cell_type": "code",
      "metadata": {
        "id": "lCtXNIx2zUYb"
      },
      "source": [
        "# Make all integer values of type int\n",
        "df[\"sentence_index\"] = df[\"sentence_index\"].astype('int')\n",
        "df[\"phrase ids\"] = df[\"phrase ids\"].astype('int')\n",
        "df[\"label\"] = df[\"label\"].astype('int')"
      ],
      "execution_count": 16,
      "outputs": []
    },
    {
      "cell_type": "code",
      "metadata": {
        "colab": {
          "base_uri": "https://localhost:8080/",
          "height": 206
        },
        "id": "z2M6YvLmzYtN",
        "outputId": "897e76f5-cf68-47bd-fa63-49ce54fb40a2"
      },
      "source": [
        "df.head()"
      ],
      "execution_count": 17,
      "outputs": [
        {
          "output_type": "execute_result",
          "data": {
            "text/html": [
              "<div>\n",
              "<style scoped>\n",
              "    .dataframe tbody tr th:only-of-type {\n",
              "        vertical-align: middle;\n",
              "    }\n",
              "\n",
              "    .dataframe tbody tr th {\n",
              "        vertical-align: top;\n",
              "    }\n",
              "\n",
              "    .dataframe thead th {\n",
              "        text-align: right;\n",
              "    }\n",
              "</style>\n",
              "<table border=\"1\" class=\"dataframe\">\n",
              "  <thead>\n",
              "    <tr style=\"text-align: right;\">\n",
              "      <th></th>\n",
              "      <th>sentence_index</th>\n",
              "      <th>sentence</th>\n",
              "      <th>phrase ids</th>\n",
              "      <th>sentiment values</th>\n",
              "      <th>label</th>\n",
              "    </tr>\n",
              "  </thead>\n",
              "  <tbody>\n",
              "    <tr>\n",
              "      <th>0</th>\n",
              "      <td>1</td>\n",
              "      <td>The Rock is destined to be the 21st Century 's...</td>\n",
              "      <td>226166</td>\n",
              "      <td>0.69444</td>\n",
              "      <td>3</td>\n",
              "    </tr>\n",
              "    <tr>\n",
              "      <th>1</th>\n",
              "      <td>2</td>\n",
              "      <td>The gorgeously elaborate continuation of `` Th...</td>\n",
              "      <td>226300</td>\n",
              "      <td>0.83333</td>\n",
              "      <td>4</td>\n",
              "    </tr>\n",
              "    <tr>\n",
              "      <th>2</th>\n",
              "      <td>3</td>\n",
              "      <td>Effective but too-tepid biopic</td>\n",
              "      <td>13995</td>\n",
              "      <td>0.51389</td>\n",
              "      <td>2</td>\n",
              "    </tr>\n",
              "    <tr>\n",
              "      <th>3</th>\n",
              "      <td>4</td>\n",
              "      <td>If you sometimes like to go to the movies to h...</td>\n",
              "      <td>14123</td>\n",
              "      <td>0.73611</td>\n",
              "      <td>3</td>\n",
              "    </tr>\n",
              "    <tr>\n",
              "      <th>4</th>\n",
              "      <td>5</td>\n",
              "      <td>Emerges as something rare , an issue movie tha...</td>\n",
              "      <td>13999</td>\n",
              "      <td>0.86111</td>\n",
              "      <td>4</td>\n",
              "    </tr>\n",
              "  </tbody>\n",
              "</table>\n",
              "</div>"
            ],
            "text/plain": [
              "   sentence_index  ... label\n",
              "0               1  ...     3\n",
              "1               2  ...     4\n",
              "2               3  ...     2\n",
              "3               4  ...     3\n",
              "4               5  ...     4\n",
              "\n",
              "[5 rows x 5 columns]"
            ]
          },
          "metadata": {
            "tags": []
          },
          "execution_count": 17
        }
      ]
    },
    {
      "cell_type": "markdown",
      "metadata": {
        "id": "SUgfDZuM0pOi"
      },
      "source": [
        "## **Create Datasets**"
      ]
    },
    {
      "cell_type": "code",
      "metadata": {
        "colab": {
          "base_uri": "https://localhost:8080/",
          "height": 279
        },
        "id": "CVHAcQvtcfGQ",
        "outputId": "6f0e0867-d74e-4ed9-ba08-978d6f4c4c6a"
      },
      "source": [
        "g = sns.histplot(df,\n",
        "                x = \"label\",\n",
        "                 discrete=True\n",
        "                )\n",
        "\n",
        "plt.show()"
      ],
      "execution_count": 18,
      "outputs": [
        {
          "output_type": "display_data",
          "data": {
            "image/png": "[encoded data removed]",
            "text/plain": [
              "<Figure size 432x288 with 1 Axes>"
            ]
          },
          "metadata": {
            "tags": [],
            "needs_background": "light"
          }
        }
      ]
    },
    {
      "cell_type": "code",
      "metadata": {
        "id": "wBwnCl821V9q"
      },
      "source": [
        "# Define Sentences and Label fields\n",
        "Sentence = data.Field(sequential = True,\n",
        "                      tokenize = 'spacy',\n",
        "                      batch_first = True,\n",
        "                      include_lengths = True)\n",
        "\n",
        "Label = data.LabelField(tokenize ='spacy',\n",
        "                        is_target = True,\n",
        "                        batch_first = True,\n",
        "                        sequential = False)\n",
        "\n",
        "# fields variable\n",
        "fields = [('sentence', Sentence),('label',Label)]\n",
        "\n",
        "# Create example variable using torch library\n",
        "example = [data.Example.fromlist([df.sentence.iloc[i], df.label.iloc[i]], fields) for i in range(df.shape[0])] \n",
        "\n",
        "# Compile all the training examples\n",
        "stanTreeDataset = data.Dataset(example, fields)"
      ],
      "execution_count": 19,
      "outputs": []
    },
    {
      "cell_type": "markdown",
      "metadata": {
        "id": "f2VoHH45gKT0"
      },
      "source": [
        "## 70/30 train-test Split "
      ]
    },
    {
      "cell_type": "code",
      "metadata": {
        "id": "z4pUzcwQ1bRi"
      },
      "source": [
        "(train_set, valid_set) = stanTreeDataset.split(split_ratio=[0.70, 0.30],\n",
        "                                      random_state=random.seed(SEED))\n",
        "\n",
        "Sentence.build_vocab(train_set)\n",
        "Label.build_vocab(train_set)"
      ],
      "execution_count": 20,
      "outputs": []
    },
    {
      "cell_type": "code",
      "metadata": {
        "colab": {
          "base_uri": "https://localhost:8080/"
        },
        "id": "LwQMYfPF1fGB",
        "outputId": "794eecb6-6820-4e15-c21e-2f76394badd2"
      },
      "source": [
        "(len(train_set), len(valid_set))"
      ],
      "execution_count": 21,
      "outputs": [
        {
          "output_type": "execute_result",
          "data": {
            "text/plain": [
              "(7900, 3386)"
            ]
          },
          "metadata": {
            "tags": []
          },
          "execution_count": 21
        }
      ]
    },
    {
      "cell_type": "code",
      "metadata": {
        "colab": {
          "base_uri": "https://localhost:8080/"
        },
        "id": "LddtK8AX1h7-",
        "outputId": "df149485-bda7-4fff-a080-1ac314018ef3"
      },
      "source": [
        "print('Size of input vocab : ', len(Sentence.vocab))\n",
        "print('Size of label vocab : ', len(Label.vocab))\n",
        "print('Top 10 words appreared repeatedly :', list(Sentence.vocab.freqs.most_common(10)))\n",
        "print('Labels : ', Label.vocab.stoi)"
      ],
      "execution_count": 22,
      "outputs": [
        {
          "output_type": "stream",
          "text": [
            "Size of input vocab :  16406\n",
            "Size of label vocab :  5\n",
            "Top 10 words appreared repeatedly : [('.', 7452), (',', 6567), ('the', 5603), ('of', 4061), ('a', 4028), ('and', 4027), ('to', 2822), ('-', 2474), ('is', 2355), (\"'s\", 2289)]\n",
            "Labels :  defaultdict(None, {1: 0, 3: 1, 2: 2, 4: 3, 0: 4})\n"
          ],
          "name": "stdout"
        }
      ]
    },
    {
      "cell_type": "markdown",
      "metadata": {
        "id": "j3rV7cKJgmjj"
      },
      "source": [
        "## Create Iterator variables"
      ]
    },
    {
      "cell_type": "code",
      "metadata": {
        "id": "oBz9dcf81mSR"
      },
      "source": [
        "train_iterator, valid_iterator = data.BucketIterator.splits((train_set, valid_set),\n",
        "                                                          batch_size = 32, \n",
        "                                                          sort_key = lambda x: len(x.sentence),\n",
        "                                                          sort_within_batch=True,\n",
        "                                                          device = device)"
      ],
      "execution_count": 23,
      "outputs": []
    },
    {
      "cell_type": "code",
      "metadata": {
        "colab": {
          "base_uri": "https://localhost:8080/"
        },
        "id": "3EOcbV8L1ouJ",
        "outputId": "d0df76ed-9d46-4ea9-9156-05351d766777"
      },
      "source": [
        "next(iter(train_iterator))"
      ],
      "execution_count": 24,
      "outputs": [
        {
          "output_type": "execute_result",
          "data": {
            "text/plain": [
              "\n",
              "[torchtext.legacy.data.batch.Batch of size 32]\n",
              "\t[.sentence]:('[torch.cuda.LongTensor of size 32x11 (GPU 0)]', '[torch.cuda.LongTensor of size 32 (GPU 0)]')\n",
              "\t[.label]:[torch.cuda.LongTensor of size 32 (GPU 0)]"
            ]
          },
          "metadata": {
            "tags": []
          },
          "execution_count": 24
        }
      ]
    },
    {
      "cell_type": "code",
      "metadata": {
        "id": "YspsraVl1reJ"
      },
      "source": [
        "import os, pickle\n",
        "with open('tokenizer.pkl', 'wb') as tokens: \n",
        "    pickle.dump(Sentence.vocab.stoi, tokens)"
      ],
      "execution_count": 25,
      "outputs": []
    },
    {
      "cell_type": "markdown",
      "metadata": {
        "id": "oNu49KiUAFuL"
      },
      "source": [
        "# **Model Architecture**"
      ]
    },
    {
      "cell_type": "code",
      "metadata": {
        "id": "r7YOPNmaAJRo"
      },
      "source": [
        "class classifier(nn.Module):\n",
        "    \n",
        "    # Define all the layers used in model\n",
        "    def __init__(self, vocab_size, embedding_dim, hidden_dim, output_dim, n_layers, dropout):\n",
        "        \n",
        "        super().__init__()          \n",
        "        \n",
        "        # Embedding layer\n",
        "        self.embedding = nn.Embedding(vocab_size, embedding_dim)\n",
        "        \n",
        "        # LSTM layer\n",
        "        self.encoder = nn.LSTM(embedding_dim, \n",
        "                           hidden_dim, \n",
        "                           num_layers=n_layers,\n",
        "                           bidirectional=True, \n",
        "                           dropout=dropout,\n",
        "                           batch_first=True)\n",
        "        \n",
        "        # Dense layer\n",
        "        self.fc = nn.Linear(hidden_dim, output_dim)\n",
        "        \n",
        "    def forward(self, text, text_lengths):\n",
        "        \n",
        "        # text = [batch size, sent_length]\n",
        "        embedded = self.embedding(text)\n",
        "        # embedded = [batch size, sent_len, emb dim]\n",
        "      \n",
        "        # packed sequence\n",
        "        packed_embedded = nn.utils.rnn.pack_padded_sequence(embedded, text_lengths.cpu(), batch_first=True)\n",
        "        \n",
        "        packed_output, (hidden, cell) = self.encoder(packed_embedded)\n",
        "        #hidden = [batch size, num layers * num directions,hid dim]\n",
        "        #cell = [batch size, num layers * num directions,hid dim]\n",
        "    \n",
        "        # Hidden = [batch size, hid dim * num directions]\n",
        "        dense_outputs = self.fc(hidden)   \n",
        "        \n",
        "        # Final activation function softmax\n",
        "        output = F.softmax(dense_outputs[0], dim=1)\n",
        "            \n",
        "        return output"
      ],
      "execution_count": 26,
      "outputs": []
    },
    {
      "cell_type": "code",
      "metadata": {
        "id": "ZAq5sCSvAKd1"
      },
      "source": [
        "# Define hyperparameters\n",
        "size_of_vocab = len(Sentence.vocab)\n",
        "embedding_dim = 256\n",
        "num_hidden_nodes = 128\n",
        "num_output_nodes = len(df.label.unique())\n",
        "num_layers = 2\n",
        "dropout = 0.4\n",
        "\n",
        "# Instantiate the model\n",
        "model = classifier(size_of_vocab,\n",
        "                   embedding_dim,\n",
        "                   num_hidden_nodes,\n",
        "                   num_output_nodes,\n",
        "                   num_layers,\n",
        "                   dropout = dropout)"
      ],
      "execution_count": 27,
      "outputs": []
    },
    {
      "cell_type": "code",
      "metadata": {
        "colab": {
          "base_uri": "https://localhost:8080/"
        },
        "id": "NgG8C_bFAMkl",
        "outputId": "25650d45-fc46-4261-8a32-bfabb97a7e6f"
      },
      "source": [
        "print(model)\n",
        "\n",
        "# No. of trainable parameters\n",
        "def count_parameters(model):\n",
        "    return sum(p.numel() for p in model.parameters() if p.requires_grad)\n",
        "    \n",
        "print(f'The model has {count_parameters(model):,} trainable parameters')"
      ],
      "execution_count": 28,
      "outputs": [
        {
          "output_type": "stream",
          "text": [
            "classifier(\n",
            "  (embedding): Embedding(16406, 256)\n",
            "  (encoder): LSTM(256, 128, num_layers=2, batch_first=True, dropout=0.4, bidirectional=True)\n",
            "  (fc): Linear(in_features=128, out_features=5, bias=True)\n",
            ")\n",
            "The model has 4,991,109 trainable parameters\n"
          ],
          "name": "stdout"
        }
      ]
    },
    {
      "cell_type": "code",
      "metadata": {
        "id": "MdqBf8dDAN-l"
      },
      "source": [
        "# define optimizer and loss\n",
        "optimizer = optim.Adam(model.parameters(), lr=2e-4)\n",
        "criterion = nn.CrossEntropyLoss()\n",
        "\n",
        "# define metric\n",
        "def binary_accuracy(preds, y):\n",
        "    #round predictions to the closest integer\n",
        "    _, predictions = torch.max(preds, 1)\n",
        "    \n",
        "    correct = (predictions == y).float() \n",
        "    acc = correct.sum() / len(correct)\n",
        "    return acc\n",
        "    \n",
        "# push to cuda if available\n",
        "model = model.to(device)\n",
        "criterion = criterion.to(device)"
      ],
      "execution_count": 29,
      "outputs": []
    },
    {
      "cell_type": "markdown",
      "metadata": {
        "id": "7MOMojDwASLh"
      },
      "source": [
        "# **Training & Evaluation Functions**"
      ]
    },
    {
      "cell_type": "code",
      "metadata": {
        "id": "CmmzRJBKAWAJ"
      },
      "source": [
        "def train(model, iterator, optimizer, criterion):\n",
        "    \n",
        "    # initialize every epoch \n",
        "    epoch_loss = 0\n",
        "    epoch_acc = 0\n",
        "    \n",
        "    # set the model in training phase\n",
        "    model.train()  \n",
        "    \n",
        "    for batch in iterator:\n",
        "        \n",
        "        # resets the gradients after every batch\n",
        "        optimizer.zero_grad()   \n",
        "        \n",
        "        # retrieve text and no. of words\n",
        "        sentence, sentence_lengths = batch.sentence\n",
        "        \n",
        "        # convert to 1D tensor\n",
        "        predictions = model(sentence, sentence_lengths).squeeze()  \n",
        "\n",
        "        # compute the loss\n",
        "        loss = criterion(predictions, batch.label)        \n",
        "        \n",
        "        # compute the binary accuracy\n",
        "        acc = binary_accuracy(predictions, batch.label)   \n",
        "        \n",
        "        # backpropage the loss and compute the gradients\n",
        "        loss.backward()       \n",
        "        \n",
        "        # update the weights\n",
        "        optimizer.step()      \n",
        "        \n",
        "        # loss and accuracy\n",
        "        epoch_loss += loss.item()  \n",
        "        epoch_acc += acc.item()    \n",
        "        \n",
        "    return epoch_loss / len(iterator), epoch_acc / len(iterator)"
      ],
      "execution_count": 30,
      "outputs": []
    },
    {
      "cell_type": "code",
      "metadata": {
        "id": "TM5cNegKAWyF"
      },
      "source": [
        "def evaluate(model, iterator, criterion):\n",
        "    \n",
        "    # initialize every epoch\n",
        "    epoch_loss = 0\n",
        "    epoch_acc = 0\n",
        "\n",
        "    # deactivating dropout layers\n",
        "    model.eval()\n",
        "    \n",
        "    # deactivates autograd\n",
        "    with torch.no_grad():\n",
        "    \n",
        "        for batch in iterator:\n",
        "        \n",
        "            # retrieve text and no. of words\n",
        "            sentence, sentence_lengths = batch.sentence\n",
        "            \n",
        "            # convert to 1d tensor\n",
        "            predictions = model(sentence, sentence_lengths).squeeze()\n",
        "            \n",
        "            # compute loss and accuracy\n",
        "            loss = criterion(predictions, batch.label)\n",
        "            acc = binary_accuracy(predictions, batch.label)\n",
        "            \n",
        "            # keep track of loss and accuracy\n",
        "            epoch_loss += loss.item()\n",
        "            epoch_acc += acc.item()\n",
        "        \n",
        "    return epoch_loss / len(iterator), epoch_acc / len(iterator)"
      ],
      "execution_count": 31,
      "outputs": []
    },
    {
      "cell_type": "markdown",
      "metadata": {
        "id": "-5W0MdoMlFMf"
      },
      "source": [
        "# **Model Training**"
      ]
    },
    {
      "cell_type": "code",
      "metadata": {
        "colab": {
          "base_uri": "https://localhost:8080/"
        },
        "id": "u6xxtUijAjEo",
        "outputId": "9e9efbb4-ffe8-4f31-936d-14dc7c247ee7"
      },
      "source": [
        "N_EPOCHS = 30\n",
        "best_valid_loss = float('inf')\n",
        "\n",
        "train_losses = []\n",
        "valid_losses = []\n",
        "train_accuracy = []\n",
        "valid_accuracy = []\n",
        "\n",
        "for epoch in range(N_EPOCHS):\n",
        "     \n",
        "    # train the model\n",
        "    train_loss, train_acc = train(model, train_iterator, optimizer, criterion)\n",
        "\n",
        "    # evaluate the model\n",
        "    valid_loss, valid_acc = evaluate(model, valid_iterator, criterion)\n",
        "    \n",
        "    # save the best model\n",
        "    if valid_loss < best_valid_loss:\n",
        "        best_valid_loss = valid_loss\n",
        "        torch.save(model.state_dict(), 'saved_weights.pt')\n",
        "\n",
        "    train_accuracy.append(train_acc)\n",
        "    train_losses.append(train_loss)\n",
        "\n",
        "    valid_accuracy.append(valid_acc)\n",
        "    valid_losses.append(valid_loss)\n",
        "\n",
        "    print(f'\\tEpoch: {epoch} | Train Loss: {train_loss:.3f} | Train Acc: {train_acc*100:.2f}%')\n",
        "    print(f'\\t Val. Loss: {valid_loss:.3f} |  Val. Acc: {valid_acc*100:.2f}% \\n')"
      ],
      "execution_count": 36,
      "outputs": [
        {
          "output_type": "stream",
          "text": [
            "\tEpoch: 0 | Train Loss: 1.329 | Train Acc: 58.71%\n",
            "\t Val. Loss: 1.533 |  Val. Acc: 34.77% \n",
            "\n",
            "\tEpoch: 1 | Train Loss: 1.301 | Train Acc: 62.45%\n",
            "\t Val. Loss: 1.540 |  Val. Acc: 33.90% \n",
            "\n",
            "\tEpoch: 2 | Train Loss: 1.277 | Train Acc: 64.87%\n",
            "\t Val. Loss: 1.547 |  Val. Acc: 33.23% \n",
            "\n",
            "\tEpoch: 3 | Train Loss: 1.249 | Train Acc: 67.80%\n",
            "\t Val. Loss: 1.546 |  Val. Acc: 33.12% \n",
            "\n",
            "\tEpoch: 4 | Train Loss: 1.226 | Train Acc: 70.24%\n",
            "\t Val. Loss: 1.549 |  Val. Acc: 33.07% \n",
            "\n",
            "\tEpoch: 5 | Train Loss: 1.207 | Train Acc: 71.62%\n",
            "\t Val. Loss: 1.550 |  Val. Acc: 33.15% \n",
            "\n",
            "\tEpoch: 6 | Train Loss: 1.190 | Train Acc: 72.89%\n",
            "\t Val. Loss: 1.559 |  Val. Acc: 32.24% \n",
            "\n",
            "\tEpoch: 7 | Train Loss: 1.178 | Train Acc: 74.09%\n",
            "\t Val. Loss: 1.552 |  Val. Acc: 32.95% \n",
            "\n",
            "\tEpoch: 8 | Train Loss: 1.163 | Train Acc: 75.35%\n",
            "\t Val. Loss: 1.561 |  Val. Acc: 31.77% \n",
            "\n",
            "\tEpoch: 9 | Train Loss: 1.156 | Train Acc: 75.77%\n",
            "\t Val. Loss: 1.561 |  Val. Acc: 32.33% \n",
            "\n",
            "\tEpoch: 10 | Train Loss: 1.145 | Train Acc: 76.64%\n",
            "\t Val. Loss: 1.562 |  Val. Acc: 32.21% \n",
            "\n",
            "\tEpoch: 11 | Train Loss: 1.139 | Train Acc: 77.19%\n",
            "\t Val. Loss: 1.562 |  Val. Acc: 32.62% \n",
            "\n",
            "\tEpoch: 12 | Train Loss: 1.134 | Train Acc: 77.47%\n",
            "\t Val. Loss: 1.565 |  Val. Acc: 32.03% \n",
            "\n",
            "\tEpoch: 13 | Train Loss: 1.130 | Train Acc: 77.75%\n",
            "\t Val. Loss: 1.559 |  Val. Acc: 33.13% \n",
            "\n",
            "\tEpoch: 14 | Train Loss: 1.128 | Train Acc: 77.97%\n",
            "\t Val. Loss: 1.563 |  Val. Acc: 33.04% \n",
            "\n",
            "\tEpoch: 15 | Train Loss: 1.124 | Train Acc: 78.15%\n",
            "\t Val. Loss: 1.562 |  Val. Acc: 32.81% \n",
            "\n",
            "\tEpoch: 16 | Train Loss: 1.121 | Train Acc: 78.37%\n",
            "\t Val. Loss: 1.566 |  Val. Acc: 32.21% \n",
            "\n",
            "\tEpoch: 17 | Train Loss: 1.122 | Train Acc: 78.32%\n",
            "\t Val. Loss: 1.563 |  Val. Acc: 32.92% \n",
            "\n",
            "\tEpoch: 18 | Train Loss: 1.118 | Train Acc: 78.62%\n",
            "\t Val. Loss: 1.561 |  Val. Acc: 32.45% \n",
            "\n",
            "\tEpoch: 19 | Train Loss: 1.107 | Train Acc: 80.31%\n",
            "\t Val. Loss: 1.559 |  Val. Acc: 32.62% \n",
            "\n",
            "\tEpoch: 20 | Train Loss: 1.094 | Train Acc: 82.19%\n",
            "\t Val. Loss: 1.560 |  Val. Acc: 32.92% \n",
            "\n",
            "\tEpoch: 21 | Train Loss: 1.083 | Train Acc: 83.21%\n",
            "\t Val. Loss: 1.562 |  Val. Acc: 32.51% \n",
            "\n",
            "\tEpoch: 22 | Train Loss: 1.074 | Train Acc: 84.46%\n",
            "\t Val. Loss: 1.567 |  Val. Acc: 31.63% \n",
            "\n",
            "\tEpoch: 23 | Train Loss: 1.060 | Train Acc: 85.53%\n",
            "\t Val. Loss: 1.573 |  Val. Acc: 31.23% \n",
            "\n",
            "\tEpoch: 24 | Train Loss: 1.049 | Train Acc: 86.60%\n",
            "\t Val. Loss: 1.567 |  Val. Acc: 31.77% \n",
            "\n",
            "\tEpoch: 25 | Train Loss: 1.042 | Train Acc: 87.05%\n",
            "\t Val. Loss: 1.563 |  Val. Acc: 32.62% \n",
            "\n",
            "\tEpoch: 26 | Train Loss: 1.032 | Train Acc: 87.95%\n",
            "\t Val. Loss: 1.571 |  Val. Acc: 31.71% \n",
            "\n",
            "\tEpoch: 27 | Train Loss: 1.028 | Train Acc: 88.29%\n",
            "\t Val. Loss: 1.567 |  Val. Acc: 32.21% \n",
            "\n",
            "\tEpoch: 28 | Train Loss: 1.027 | Train Acc: 88.26%\n",
            "\t Val. Loss: 1.563 |  Val. Acc: 32.51% \n",
            "\n",
            "\tEpoch: 29 | Train Loss: 1.024 | Train Acc: 88.64%\n",
            "\t Val. Loss: 1.568 |  Val. Acc: 31.91% \n",
            "\n"
          ],
          "name": "stdout"
        }
      ]
    },
    {
      "cell_type": "markdown",
      "metadata": {
        "id": "4Rmp0uwfsAWM"
      },
      "source": [
        "# Training Graphs"
      ]
    },
    {
      "cell_type": "code",
      "metadata": {
        "colab": {
          "base_uri": "https://localhost:8080/",
          "height": 625
        },
        "id": "AmGTbKzJqpeu",
        "outputId": "7c55810a-a293-4a15-dcc5-ae7616f5bc03"
      },
      "source": [
        "fig, axs = plt.subplots(1, 2, figsize=(15,10))\n",
        "\n",
        "axs[0].plot(valid_accuracy, '-r', label='valid acc')\n",
        "axs[0].plot(train_accuracy, '-b', label='train acc')\n",
        "axs[0].legend(loc = \"upper right\")\n",
        "axs[0].set_title(\"Accuracy\")\n",
        "\n",
        "axs[1].plot(valid_losses, 'r', label='valid loss')\n",
        "axs[1].plot(train_losses, 'b', label='train loss')\n",
        "axs[1].legend(loc = \"upper right\")\n",
        "axs[1].set_title(\"Loss\")"
      ],
      "execution_count": 37,
      "outputs": [
        {
          "output_type": "execute_result",
          "data": {
            "text/plain": [
              "Text(0.5, 1.0, 'Loss')"
            ]
          },
          "metadata": {
            "tags": []
          },
          "execution_count": 37
        },
        {
          "output_type": "display_data",
          "data": {
            "image/png": "[encoded data removed]",
            "text/plain": [
              "<Figure size 1080x720 with 2 Axes>"
            ]
          },
          "metadata": {
            "tags": [],
            "needs_background": "light"
          }
        }
      ]
    },
    {
      "cell_type": "markdown",
      "metadata": {
        "id": "ruNycfRxkzD7"
      },
      "source": [
        "# Print prediction of 10 samples from the test dataset"
      ]
    },
    {
      "cell_type": "code",
      "metadata": {
        "id": "e9JkqMp9Ak70"
      },
      "source": [
        "# load weights and tokenizer\n",
        "\n",
        "path='./saved_weights.pt'\n",
        "model.load_state_dict(torch.load(path));\n",
        "model.eval();\n",
        "tokenizer_file = open('./tokenizer.pkl', 'rb')\n",
        "tokenizer = pickle.load(tokenizer_file)\n",
        "\n",
        "# inference \n",
        "\n",
        "nlp = spacy.load('en')\n",
        "\n",
        "def classify_sentence(sentence):\n",
        "        \n",
        "    # tokenize the sentence \n",
        "    tokenized = [tok.text for tok in nlp.tokenizer(sentence)] \n",
        "    # convert to integer sequence using predefined tokenizer dictionary\n",
        "    indexed = [tokenizer[t] for t in tokenized]        \n",
        "    # compute no. of words        \n",
        "    length = [len(indexed)]\n",
        "    # convert to tensor                                    \n",
        "    tensor = torch.LongTensor(indexed).to(device)   \n",
        "    # reshape in form of batch, no. of words           \n",
        "    tensor = tensor.unsqueeze(1).T  \n",
        "    # convert to tensor                          \n",
        "    length_tensor = torch.LongTensor(length)\n",
        "    # Get the model prediction                  \n",
        "    prediction = model(tensor, length_tensor)\n",
        "\n",
        "    _, pred = torch.max(prediction, 1) \n",
        "    \n",
        "    #return categories[pred.item()]\n",
        "    return pred.item()"
      ],
      "execution_count": 33,
      "outputs": []
    },
    {
      "cell_type": "code",
      "metadata": {
        "colab": {
          "base_uri": "https://localhost:8080/"
        },
        "id": "ZREysWP6UAvH",
        "outputId": "77606537-0f8c-428e-b312-cfa95eca8655"
      },
      "source": [
        "label_dict = {0 : 'very negative',\n",
        "              1 : 'negative',\n",
        "              2 : 'neutral',\n",
        "              3 : 'positive',\n",
        "              4 : 'very positive'}\n",
        "\n",
        "# Print 10 samples from the test dataset\n",
        "\n",
        "for i in range(10):\n",
        "  print(\"Sentence : \", ' '.join(valid_set.examples[i].sentence))\n",
        "  pred = classify_sentence(' '.join(valid_set.examples[i].sentence))\n",
        "  print(f\"Predicted : {label_dict[pred]}\")\n",
        "  print(f\"Target : {label_dict[valid_set.examples[i].label]}\\n\")"
      ],
      "execution_count": 34,
      "outputs": [
        {
          "output_type": "stream",
          "text": [
            "Sentence :  But what is missing from it all is a moral .\n",
            "Predicted : very negative\n",
            "Target : negative\n",
            "\n",
            "Sentence :  All leather pants & augmented boobs , Hawn is hilarious as she tries to resuscitate the fun - loving libertine lost somewhere inside the conservative , handbag - clutching Sarandon .\n",
            "Predicted : negative\n",
            "Target : positive\n",
            "\n",
            "Sentence :  It kinda works and qualifies as cool at times , but is just too lame to work or be cool at others .\n",
            "Predicted : very negative\n",
            "Target : neutral\n",
            "\n",
            "Sentence :  ` Stock up on silver bullets for director Neil Marshall 's intense freight train of a film . '\n",
            "Predicted : negative\n",
            "Target : positive\n",
            "\n",
            "Sentence :  Frei assembles a fascinating profile of a deeply humanistic artist who , in spite of all that he 's witnessed , remains surprisingly idealistic , and retains an extraordinary faith in the ability of images to communicate the truth of the world around him .\n",
            "Predicted : negative\n",
            "Target : positive\n",
            "\n",
            "Sentence :  You 'll just have your head in your hands wondering why Lee 's character did n't just go to a bank manager and save everyone the misery .\n",
            "Predicted : very negative\n",
            "Target : very negative\n",
            "\n",
            "Sentence :  The enormous comic potential of an oafish idiot impersonating an aristocrat remains sadly unrealized .\n",
            "Predicted : very negative\n",
            "Target : negative\n",
            "\n",
            "Sentence :  It has plenty of laughs .\n",
            "Predicted : very negative\n",
            "Target : positive\n",
            "\n",
            "Sentence :  The problem with the mayhem in Formula 51 is not that it 's offensive , but that it 's boring .\n",
            "Predicted : very negative\n",
            "Target : negative\n",
            "\n",
            "Sentence :  Not a bad journey at all .\n",
            "Predicted : very negative\n",
            "Target : positive\n",
            "\n"
          ],
          "name": "stdout"
        }
      ]
    }
  ]
}